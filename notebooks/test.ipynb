{
 "cells": [
  {
   "cell_type": "markdown",
   "metadata": {},
   "source": [
    "# 提取21号-28号所有状态为已回复的售中-物流咨询服务单数据"
   ]
  },
  {
   "cell_type": "code",
   "execution_count": 28,
   "metadata": {},
   "outputs": [],
   "source": [
    "import pandas as pd\n",
    "import json"
   ]
  },
  {
   "cell_type": "markdown",
   "metadata": {},
   "source": [
    "注意： 服务单统计类型1 表格里有两列服务单类型，先手动删除掉第一列，再运行代码"
   ]
  },
  {
   "cell_type": "code",
   "execution_count": 29,
   "metadata": {},
   "outputs": [],
   "source": [
    "file_path = 'D:\\work\\email_anay\\data\\服务单统计类型1_2025-02-21_2025-02-28.csv'\n",
    "data = pd.read_csv(file_path, encoding='ansi')"
   ]
  },
  {
   "cell_type": "code",
   "execution_count": 30,
   "metadata": {},
   "outputs": [
    {
     "name": "stdout",
     "output_type": "stream",
     "text": [
      "Index(['服务单ID', '服务单标题', '日期', '用户地址', '用户邮件数', '客服邮件数', '客服人员数', '最早未回复时间',\n",
      "       '未回复邮件数', '平均回复时效(分钟)', '订单分类', '累计订单金额(USD)', '持续时间(分钟)', '服务单标记',\n",
      "       '服务单一级类型', '服务单类型', '服务单状态', '备注', '首次类型编辑人员', '编辑时间', '末次类型编辑人员',\n",
      "       '编辑时间.1', '服务单完成人员', '服务单完成时间', '服务单审核人员', '服务单审核时间', '当前关联人',\n",
      "       '最新一次方案提出人', '最新一次方案提出时间', '最终方案提出人', '方案-金额补偿', '方案-重发', '方案-补发配件',\n",
      "       '方案-补发整件', '换款', '换空运', '回复客服人员', '回复时间', '回复客服人员.1', '回复时间.1',\n",
      "       '回复客服人员.2', '回复时间.2', '回复客服人员.3', '回复时间.3', '回复客服人员.4', '回复时间.4',\n",
      "       '回复客服人员.5', '回复时间.5', '回复客服人员.6', '回复时间.6', '回复客服人员.7', '回复时间.7',\n",
      "       '回复客服人员.8', '回复时间.8', '回复客服人员.9', '回复时间.9', '回复客服人员.10', '回复时间.10',\n",
      "       '回复客服人员.11', '回复时间.11', '回复客服人员.12', '回复时间.12', '回复客服人员.13', '回复时间.13',\n",
      "       '回复客服人员.14', '回复时间.14', '回复客服人员.15', '回复时间.15', '回复客服人员.16', '回复时间.16',\n",
      "       '回复客服人员.17', '回复时间.17', '回复客服人员.18', '回复时间.18', '回复客服人员.19', '回复时间.19',\n",
      "       '回复客服人员.20', '回复时间.20', '回复客服人员.21', '回复时间.21', '回复客服人员.22', '回复时间.22',\n",
      "       '回复客服人员.23', '回复时间.23', '回复客服人员.24', '回复时间.24', '回复客服人员.25', '回复时间.25',\n",
      "       '回复客服人员.26', '回复时间.26'],\n",
      "      dtype='object')\n"
     ]
    }
   ],
   "source": [
    "print(data.columns)"
   ]
  },
  {
   "cell_type": "code",
   "execution_count": 31,
   "metadata": {},
   "outputs": [
    {
     "data": {
      "text/plain": [
       "7949"
      ]
     },
     "execution_count": 31,
     "metadata": {},
     "output_type": "execute_result"
    }
   ],
   "source": [
    "len(data)"
   ]
  },
  {
   "cell_type": "code",
   "execution_count": 33,
   "metadata": {},
   "outputs": [],
   "source": [
    "all_service_ids = data['服务单ID'].tolist()\n",
    "all_service_ids = [str(i) for i in all_service_ids]\n",
    "with open('D:\\work\\email_anay\\data\\所有21-28服务单ID.txt', 'w') as f:\n",
    "    f.write('\\n'.join(all_service_ids))"
   ]
  },
  {
   "cell_type": "code",
   "execution_count": 20,
   "metadata": {},
   "outputs": [
    {
     "data": {
      "text/plain": [
       "1996"
      ]
     },
     "execution_count": 20,
     "metadata": {},
     "output_type": "execute_result"
    }
   ],
   "source": [
    "data = data[data['服务单类型'] == '售中-物流咨询']\n",
    "len(data)"
   ]
  },
  {
   "cell_type": "code",
   "execution_count": 23,
   "metadata": {},
   "outputs": [],
   "source": [
    "data = data[~data['服务单状态'].isin(['待回复','待分配', '待协同'])]"
   ]
  },
  {
   "cell_type": "code",
   "execution_count": 24,
   "metadata": {},
   "outputs": [
    {
     "data": {
      "text/plain": [
       "1964"
      ]
     },
     "execution_count": 24,
     "metadata": {},
     "output_type": "execute_result"
    }
   ],
   "source": [
    "len(data)"
   ]
  },
  {
   "cell_type": "code",
   "execution_count": 27,
   "metadata": {},
   "outputs": [],
   "source": [
    "email_servie_ids = data['服务单ID'].tolist()\n",
    "email_servie_ids = [str(i) for i in email_servie_ids]\n",
    "with open('D:\\work\\email_anay\\data\\售中-物流咨询21-28服务单ID.txt', 'w') as f:\n",
    "    f.write('\\n'.join(email_servie_ids))\n"
   ]
  },
  {
   "cell_type": "code",
   "execution_count": 25,
   "metadata": {},
   "outputs": [],
   "source": [
    "data.to_csv('D:\\work\\email_anay\\data\\售中-物流咨询.csv', index=False, encoding='ansi')"
   ]
  },
  {
   "cell_type": "code",
   "execution_count": null,
   "metadata": {},
   "outputs": [],
   "source": []
  }
 ],
 "metadata": {
  "kernelspec": {
   "display_name": "base",
   "language": "python",
   "name": "python3"
  },
  "language_info": {
   "codemirror_mode": {
    "name": "ipython",
    "version": 3
   },
   "file_extension": ".py",
   "mimetype": "text/x-python",
   "name": "python",
   "nbconvert_exporter": "python",
   "pygments_lexer": "ipython3",
   "version": "3.11.9"
  }
 },
 "nbformat": 4,
 "nbformat_minor": 2
}
