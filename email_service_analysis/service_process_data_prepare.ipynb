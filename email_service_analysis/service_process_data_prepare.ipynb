{
 "cells": [
  {
   "cell_type": "code",
   "execution_count": 2,
   "metadata": {},
   "outputs": [],
   "source": [
    "import pandas as pd"
   ]
  },
  {
   "cell_type": "code",
   "execution_count": 3,
   "metadata": {},
   "outputs": [
    {
     "data": {
      "text/html": [
       "<div>\n",
       "<style scoped>\n",
       "    .dataframe tbody tr th:only-of-type {\n",
       "        vertical-align: middle;\n",
       "    }\n",
       "\n",
       "    .dataframe tbody tr th {\n",
       "        vertical-align: top;\n",
       "    }\n",
       "\n",
       "    .dataframe thead th {\n",
       "        text-align: right;\n",
       "    }\n",
       "</style>\n",
       "<table border=\"1\" class=\"dataframe\">\n",
       "  <thead>\n",
       "    <tr style=\"text-align: right;\">\n",
       "      <th></th>\n",
       "      <th>log_data_id</th>\n",
       "      <th>log_type_id</th>\n",
       "      <th>main_relation_id</th>\n",
       "      <th>sub_relation_id</th>\n",
       "      <th>user_id</th>\n",
       "      <th>time</th>\n",
       "      <th>info</th>\n",
       "    </tr>\n",
       "  </thead>\n",
       "  <tbody>\n",
       "    <tr>\n",
       "      <th>0</th>\n",
       "      <td>34215831804</td>\n",
       "      <td>4</td>\n",
       "      <td>360457518</td>\n",
       "      <td>0</td>\n",
       "      <td>10000</td>\n",
       "      <td>2025-01-01 00:01:42</td>\n",
       "      <td>[RecvEmailTask]新增服务单：[类型：售后]</td>\n",
       "    </tr>\n",
       "    <tr>\n",
       "      <th>1</th>\n",
       "      <td>34215902947</td>\n",
       "      <td>4</td>\n",
       "      <td>360457518</td>\n",
       "      <td>0</td>\n",
       "      <td>12090</td>\n",
       "      <td>2025-01-01 13:32:32</td>\n",
       "      <td>[email]修改服务单类型：售后 -&gt; 售中-物流咨询</td>\n",
       "    </tr>\n",
       "    <tr>\n",
       "      <th>2</th>\n",
       "      <td>34215831855</td>\n",
       "      <td>4</td>\n",
       "      <td>360457519</td>\n",
       "      <td>0</td>\n",
       "      <td>10000</td>\n",
       "      <td>2025-01-01 00:01:50</td>\n",
       "      <td>[RecvEmailTask]新增服务单：[类型：售后]</td>\n",
       "    </tr>\n",
       "  </tbody>\n",
       "</table>\n",
       "</div>"
      ],
      "text/plain": [
       "   log_data_id  log_type_id  main_relation_id  sub_relation_id  user_id  \\\n",
       "0  34215831804            4         360457518                0    10000   \n",
       "1  34215902947            4         360457518                0    12090   \n",
       "2  34215831855            4         360457519                0    10000   \n",
       "\n",
       "                 time                          info  \n",
       "0 2025-01-01 00:01:42  [RecvEmailTask]新增服务单：[类型：售后]  \n",
       "1 2025-01-01 13:32:32  [email]修改服务单类型：售后 -> 售中-物流咨询  \n",
       "2 2025-01-01 00:01:50  [RecvEmailTask]新增服务单：[类型：售后]  "
      ]
     },
     "execution_count": 3,
     "metadata": {},
     "output_type": "execute_result"
    }
   ],
   "source": [
    "data = pd.read_excel('D:\\work\\email_anay\\服务单日志.xlsx')\n",
    "data.head(3)"
   ]
  },
  {
   "cell_type": "code",
   "execution_count": 4,
   "metadata": {},
   "outputs": [
    {
     "name": "stdout",
     "output_type": "stream",
     "text": [
      "未经过滤，所选时间段内的所有数据：\n",
      "总共进行了111078次类型修改操作\n",
      "总共有54984个服务单\n"
     ]
    }
   ],
   "source": [
    "service_num = len(data['main_relation_id'].unique())\n",
    "print('未经过滤，所选时间段内的所有数据：')\n",
    "print('总共进行了{}次类型修改操作'.format(len(data)))\n",
    "print('总共有{}个服务单'.format(service_num))"
   ]
  },
  {
   "cell_type": "code",
   "execution_count": 10,
   "metadata": {},
   "outputs": [
    {
     "name": "stdout",
     "output_type": "stream",
     "text": [
      "筛选出所选时间段内新增的服务单: \n",
      "服务单数量:54152个\n",
      "服务单状态生成（修改）操作: 109992次\n"
     ]
    }
   ],
   "source": [
    "# 把info列中包含\"新增服务单\"的行筛选出来\n",
    "# a_data: 在所选时间段中新增的服务单\n",
    "a_data = data[data['info'].str.contains('新增服务单')]\n",
    "print(\"筛选出所选时间段内新增的服务单: \")\n",
    "print('服务单数量:{}个'.format(len(a_data)))\n",
    "a = a_data['main_relation_id'].unique()\n",
    "a = set(a)\n",
    "filtered_data = data[data['main_relation_id'].isin(a)]\n",
    "\n",
    "print(\"服务单状态生成（修改）操作: {}次\".format(len(filtered_data)))"
   ]
  },
  {
   "cell_type": "code",
   "execution_count": 16,
   "metadata": {},
   "outputs": [
    {
     "data": {
      "text/html": [
       "<div>\n",
       "<style scoped>\n",
       "    .dataframe tbody tr th:only-of-type {\n",
       "        vertical-align: middle;\n",
       "    }\n",
       "\n",
       "    .dataframe tbody tr th {\n",
       "        vertical-align: top;\n",
       "    }\n",
       "\n",
       "    .dataframe thead th {\n",
       "        text-align: right;\n",
       "    }\n",
       "</style>\n",
       "<table border=\"1\" class=\"dataframe\">\n",
       "  <thead>\n",
       "    <tr style=\"text-align: right;\">\n",
       "      <th></th>\n",
       "      <th>service_id</th>\n",
       "      <th>auto_type</th>\n",
       "      <th>modified_type</th>\n",
       "    </tr>\n",
       "  </thead>\n",
       "  <tbody>\n",
       "    <tr>\n",
       "      <th>0</th>\n",
       "      <td>360457518</td>\n",
       "      <td>售后</td>\n",
       "      <td>售中-物流咨询</td>\n",
       "    </tr>\n",
       "    <tr>\n",
       "      <th>1</th>\n",
       "      <td>360457519</td>\n",
       "      <td>售后</td>\n",
       "      <td>售中-物流咨询</td>\n",
       "    </tr>\n",
       "    <tr>\n",
       "      <th>2</th>\n",
       "      <td>360457521</td>\n",
       "      <td>售后</td>\n",
       "      <td>售中-物流咨询</td>\n",
       "    </tr>\n",
       "  </tbody>\n",
       "</table>\n",
       "</div>"
      ],
      "text/plain": [
       "   service_id auto_type modified_type\n",
       "0   360457518        售后       售中-物流咨询\n",
       "1   360457519        售后       售中-物流咨询\n",
       "2   360457521        售后       售中-物流咨询"
      ]
     },
     "execution_count": 16,
     "metadata": {},
     "output_type": "execute_result"
    }
   ],
   "source": [
    "# 把有且仅有两次操作的服务单筛选出来\n",
    "b_data = filtered_data.groupby('main_relation_id').filter(lambda x: len(x) == 2)\n",
    "sorted_data = b_data.sort_values(['main_relation_id', 'time'])\n",
    "result_df = sorted_data.groupby('main_relation_id').agg({\n",
    "    'info': lambda x: list(x)[:2]\n",
    "}).reset_index()\n",
    "\n",
    "# result_df['auto_type'] = result_df['info'].apply(lambda x: x[0] if len(x) > 0 else None)\n",
    "result_df['auto_type'] = result_df['info'].apply(lambda x: x[0] if len(x) > 0 else None).str.extract(r'类型：([^， \\]]+)')\n",
    "result_df['modified_type'] = result_df['info'].apply(lambda x: x[1] if len(x) > 1 else None).str.extract(r'-> ([^， \\]]+)')\n",
    "\n",
    "final_df = result_df.rename(columns={'main_relation_id': 'service_id'}).drop('info', axis=1)\n",
    "\n",
    "final_df.head(3)"
   ]
  },
  {
   "cell_type": "code",
   "execution_count": 17,
   "metadata": {},
   "outputs": [],
   "source": [
    "# 去掉modified_type列中是三级分类的行 （有两个\"-\"）\n",
    "final_df = final_df[final_df['modified_type'].str.count('-') != 2]"
   ]
  },
  {
   "cell_type": "code",
   "execution_count": 15,
   "metadata": {},
   "outputs": [],
   "source": [
    "sorted_data.to_excel('D:\\work\\email_anay\\sorted_data.xlsx', index=False)"
   ]
  },
  {
   "cell_type": "code",
   "execution_count": 18,
   "metadata": {},
   "outputs": [],
   "source": [
    "final_df.to_excel('D:\\work\\email_anay\\服务单日志_处理后.xlsx', index=False)"
   ]
  },
  {
   "cell_type": "code",
   "execution_count": null,
   "metadata": {},
   "outputs": [],
   "source": []
  },
  {
   "cell_type": "code",
   "execution_count": null,
   "metadata": {},
   "outputs": [],
   "source": [
    "spu_id_list = a_data['main_relation_id'].to_list()\n",
    "with open('D:\\work\\email_anay\\email_service_ids.txt', 'w') as f:\n",
    "    f.writelines(f\"{i}\\n\" for i in spu_id_list)"
   ]
  },
  {
   "cell_type": "code",
   "execution_count": null,
   "metadata": {},
   "outputs": [],
   "source": [
    "wrong_data = filtered_data.groupby('main_relation_id').filter(lambda x: len(x) == 2)\n",
    "print(\"将时间段内有且仅有两次修改操作的服务单视作第一次自动分类出错\")\n",
    "print('自动分类出错的服务单个数：{}'.format(len(wrong_data['main_relation_id'].unique())))\n",
    "print('错误率为{:.2f}%'.format(len(wrong_data['main_relation_id'].unique())/len(a_data)*100))    "
   ]
  },
  {
   "cell_type": "code",
   "execution_count": null,
   "metadata": {},
   "outputs": [],
   "source": [
    "wrong_data.head(3)"
   ]
  },
  {
   "cell_type": "markdown",
   "metadata": {},
   "source": [
    "### 统计第一次自动分类（错误分类）的各个类别占比"
   ]
  },
  {
   "cell_type": "code",
   "execution_count": null,
   "metadata": {},
   "outputs": [],
   "source": [
    "a_data.loc[:, 'type'] = a_data['info'].str.extract(r'类型：([^， \\]]+)')\n",
    "a_data.head(3)"
   ]
  },
  {
   "cell_type": "code",
   "execution_count": null,
   "metadata": {},
   "outputs": [],
   "source": [
    "first_wrong_data = wrong_data[wrong_data['info'].str.contains('新增服务单')].copy()\n",
    "first_wrong_data.loc[:, 'type'] = first_wrong_data['info'].str.extract(r'类型：([^， \\]]+)')"
   ]
  },
  {
   "cell_type": "code",
   "execution_count": null,
   "metadata": {},
   "outputs": [],
   "source": [
    "first_wrong_data = first_wrong_data[['main_relation_id', 'time', 'type']]\n",
    "first_wrong_data.head(3)\n",
    "# 统计每种类型的错误数量\n",
    "wrong_type = first_wrong_data.groupby('type').size()\n",
    "wrong_type = wrong_type.sort_values(ascending=False)\n",
    "print('错误类型统计(从高到低）：')\n",
    "print(wrong_type)\n",
    "print()\n",
    "print('====================')\n",
    "# 统计每种类型的错误率\n",
    "type_num = a_data['type'].value_counts()\n",
    "wrong_rate = (wrong_type / type_num * 100).round(2)\n",
    "wrong_rate = wrong_rate.sort_values(ascending=False)\n",
    "print('错误率统计：')\n",
    "print('（该类型错误数量/该类型服务单数量）')\n",
    "print()\n",
    "print(wrong_rate.apply(lambda x: f'{x}%'))\n"
   ]
  }
 ],
 "metadata": {
  "kernelspec": {
   "display_name": "base",
   "language": "python",
   "name": "python3"
  },
  "language_info": {
   "codemirror_mode": {
    "name": "ipython",
    "version": 3
   },
   "file_extension": ".py",
   "mimetype": "text/x-python",
   "name": "python",
   "nbconvert_exporter": "python",
   "pygments_lexer": "ipython3",
   "version": "3.11.9"
  }
 },
 "nbformat": 4,
 "nbformat_minor": 2
}
