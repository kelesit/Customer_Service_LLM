{
 "cells": [
  {
   "cell_type": "code",
   "execution_count": 10,
   "metadata": {},
   "outputs": [],
   "source": [
    "import pandas as pd"
   ]
  },
  {
   "cell_type": "code",
   "execution_count": 11,
   "metadata": {},
   "outputs": [],
   "source": [
    "data = pd.read_excel('D:\\work\\email_anay\\服务单日志_处理后.xlsx')"
   ]
  },
  {
   "cell_type": "code",
   "execution_count": 12,
   "metadata": {},
   "outputs": [
    {
     "name": "stdout",
     "output_type": "stream",
     "text": [
      "service_ids: 29883\n",
      "types: 32\n"
     ]
    }
   ],
   "source": [
    "service_ids = data['service_id'].unique()\n",
    "print('service_ids:', len(service_ids))\n",
    "types = data['modified_type'].unique()\n",
    "print('types:', len(types))"
   ]
  },
  {
   "cell_type": "code",
   "execution_count": 13,
   "metadata": {},
   "outputs": [],
   "source": [
    "type_list = types.tolist()\n",
    "type_list.sort()\n",
    "with open('D:\\work\\email_anay\\\\type.txt', 'w') as f:\n",
    "    for t in type_list:\n",
    "        f.write(t + '\\n')"
   ]
  },
  {
   "cell_type": "code",
   "execution_count": 15,
   "metadata": {},
   "outputs": [],
   "source": [
    "# 把modified_type列为['售后', '其他']的行去掉\n",
    "data = data[~data['modified_type'].isin(['售后', '其他'])]\n",
    "\n",
    "# 随机抽取300个数据\n",
    "test_data = data.sample(n=300)\n",
    "test_data['service_id'].unique().tolist()\n",
    "with open('D:\\work\\email_anay\\\\test_service_id.txt', 'w') as f:\n",
    "    for sid in test_data['service_id'].unique():\n",
    "        f.write(str(sid) + '\\n')\n"
   ]
  }
 ],
 "metadata": {
  "kernelspec": {
   "display_name": "base",
   "language": "python",
   "name": "python3"
  },
  "language_info": {
   "codemirror_mode": {
    "name": "ipython",
    "version": 3
   },
   "file_extension": ".py",
   "mimetype": "text/x-python",
   "name": "python",
   "nbconvert_exporter": "python",
   "pygments_lexer": "ipython3",
   "version": "3.11.9"
  }
 },
 "nbformat": 4,
 "nbformat_minor": 2
}
